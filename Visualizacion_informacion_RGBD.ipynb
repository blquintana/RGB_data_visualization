{
 "cells": [
  {
   "cell_type": "markdown",
   "metadata": {},
   "source": [
    "# Ejemplo visualización información RGBD\n"
   ]
  },
  {
   "cell_type": "markdown",
   "metadata": {},
   "source": [
    "Se va a mostrar un ejemplo de código en el que se cargan unos datos provenientes de una cámara RGB-D y se visualizan.\n",
    "\n",
    "Primero se cargan los datos ya almacenados en un archivo .mat"
   ]
  },
  {
   "cell_type": "code",
   "execution_count": 7,
   "metadata": {},
   "outputs": [],
   "source": [
    "load('Datos\\Datos_RGBD_camera.mat')"
   ]
  },
  {
   "cell_type": "markdown",
   "metadata": {},
   "source": [
    "A continuación se muestra la imagen de color"
   ]
  },
  {
   "cell_type": "code",
   "execution_count": 8,
   "metadata": {
    "scrolled": true
   },
   "outputs": [
    {
     "name": "stderr",
     "output_type": "stream",
     "text": [
      "\u001b[1;31mInline plot failed, consider trying another graphics toolkit\n",
      "error: print: figure must be visible or qt toolkit must be used with __gl_window__ property 'on' or QT_OFFSCREEN feature available\n",
      "error: called from\n",
      "    _make_figures>safe_print at line 125 column 7\n",
      "    _make_figures at line 49 column 13\n",
      "\n",
      "\u001b[0m"
     ]
    }
   ],
   "source": [
    "figure, imshow(colorImage)\n"
   ]
  },
  {
   "cell_type": "code",
   "execution_count": 9,
   "metadata": {},
   "outputs": [
    {
     "name": "stdout",
     "output_type": "stream",
     "text": [
      "error: 'Se' undefined near line 1, column 1\n"
     ]
    }
   ],
   "source": [
    "Se visualiza la imagen de profundidad obtenida"
   ]
  },
  {
   "cell_type": "code",
   "execution_count": 10,
   "metadata": {},
   "outputs": [
    {
     "name": "stdout",
     "output_type": "stream",
     "text": [
      "ans = 1\n"
     ]
    },
    {
     "data": {
      "image/png": "[encoded data removed]",
      "text/plain": [
       "<IPython.core.display.Image object>"
      ]
     },
     "metadata": {},
     "output_type": "display_data"
    }
   ],
   "source": [
    "depthImage=depthMap/max(depthMap(:));\n",
    "figure, imshow(depthMap,[0.2 0.5])\n",
    "\n",
    "max(depthImage(:))\n"
   ]
  },
  {
   "cell_type": "markdown",
   "metadata": {},
   "source": [
    "Se representa la nube de puntos"
   ]
  },
  {
   "cell_type": "code",
   "execution_count": 11,
   "metadata": {},
   "outputs": [
    {
     "name": "stderr",
     "output_type": "stream",
     "text": [
      "\u001b[1;31mInline plot failed, consider trying another graphics toolkit\n",
      "error: print: figure must be visible or qt toolkit must be used with __gl_window__ property 'on' or QT_OFFSCREEN feature available\n",
      "error: called from\n",
      "    _make_figures>safe_print at line 125 column 7\n",
      "    _make_figures at line 49 column 13\n",
      "\n",
      "\u001b[0m"
     ]
    }
   ],
   "source": [
    "figure, plot3(nube_puntos(:,1),nube_puntos(:,2),nube_puntos(:,3),'.b')\n"
   ]
  },
  {
   "cell_type": "markdown",
   "metadata": {},
   "source": [
    "Se hace un pequeño procesamiento de la nube de puntos"
   ]
  },
  {
   "cell_type": "code",
   "execution_count": 12,
   "metadata": {},
   "outputs": [
    {
     "name": "stderr",
     "output_type": "stream",
     "text": [
      "\u001b[1;31mInline plot failed, consider trying another graphics toolkit\n",
      "error: print: figure must be visible or qt toolkit must be used with __gl_window__ property 'on' or QT_OFFSCREEN feature available\n",
      "error: called from\n",
      "    _make_figures>safe_print at line 125 column 7\n",
      "    _make_figures at line 49 column 13\n",
      "\n",
      "\u001b[0m"
     ]
    }
   ],
   "source": [
    "%%Eliminar puntos en el origen\n",
    "index_puntos_sin_origen=find(~((nube_puntos(:,1)==0) & (nube_puntos(:,2)==0) &(nube_puntos(:,3)==0)));\n",
    "\n",
    "pc_filt=nube_puntos(index_puntos_sin_origen,:);\n",
    "figure, plot3(pc_filt(:,1),pc_filt(:,2),pc_filt(:,3),'.b')\n"
   ]
  },
  {
   "cell_type": "code",
   "execution_count": 13,
   "metadata": {},
   "outputs": [
    {
     "name": "stderr",
     "output_type": "stream",
     "text": [
      "\u001b[1;31mInline plot failed, consider trying another graphics toolkit\n",
      "error: print: figure must be visible or qt toolkit must be used with __gl_window__ property 'on' or QT_OFFSCREEN feature available\n",
      "error: called from\n",
      "    _make_figures>safe_print at line 125 column 7\n",
      "    _make_figures at line 49 column 13\n",
      "\n",
      "\u001b[0m"
     ]
    }
   ],
   "source": [
    "%%Seleccionar ROI de la nube de puntos\n",
    "% roi=[-1,1,-1,1,0,0.4];\n",
    "ancho=0.3;\n",
    "largo=0.4;\n",
    "profundo=0.4;\n",
    "\n",
    "roi=[-largo/2,largo/2,-ancho/2,ancho/2,0,profundo];\n",
    "\n",
    "\n",
    "pc_roi = pc_filt((pc_filt(:,1)>roi(1) & pc_filt(:,1)<roi(2)) & (pc_filt(:,2)>roi(3) & pc_filt(:,2)<roi(4)) & (pc_filt(:,3)>roi(5) & pc_filt(:,3)<roi(6)),:);\n",
    "figure, plot3(pc_roi(:,1),pc_roi(:,2),pc_roi(:,3),'.b')\n"
   ]
  },
  {
   "cell_type": "markdown",
   "metadata": {},
   "source": [
    "Se visualiza la nube de puntos desde arriba"
   ]
  },
  {
   "cell_type": "code",
   "execution_count": 14,
   "metadata": {},
   "outputs": [
    {
     "name": "stderr",
     "output_type": "stream",
     "text": [
      "\u001b[1;31mInline plot failed, consider trying another graphics toolkit\n",
      "error: print: figure must be visible or qt toolkit must be used with __gl_window__ property 'on' or QT_OFFSCREEN feature available\n",
      "error: called from\n",
      "    _make_figures>safe_print at line 125 column 7\n",
      "    _make_figures at line 49 column 13\n",
      "\n",
      "\u001b[0m"
     ]
    }
   ],
   "source": [
    "figure, plot3(pc_roi(:,1),pc_roi(:,2),pc_roi(:,3),'.b')\n",
    "view(0,90)"
   ]
  },
  {
   "cell_type": "markdown",
   "metadata": {},
   "source": [
    "Se visualiza la nube de puntos con color"
   ]
  },
  {
   "cell_type": "code",
   "execution_count": 15,
   "metadata": {},
   "outputs": [
    {
     "name": "stdout",
     "output_type": "stream",
     "text": [
      "ans =\n",
      "\n",
      "   0.5765   0.6510   0.8353\n",
      "   0.5843   0.6549   0.8431\n",
      "   0.3098   0.3569   0.4392\n",
      "   0.4196   0.4941   0.6941\n",
      "   0.5961   0.6667   0.8431\n",
      "   0.5451   0.6275   0.8510\n",
      "   0.5255   0.6078   0.8314\n",
      "   0.5294   0.6157   0.8392\n",
      "   0.5216   0.6078   0.8392\n",
      "   0.3608   0.4588   0.5569\n",
      "\n"
     ]
    },
    {
     "name": "stderr",
     "output_type": "stream",
     "text": [
      "\u001b[1;31mInline plot failed, consider trying another graphics toolkit\n",
      "error: print: figure must be visible or qt toolkit must be used with __gl_window__ property 'on' or QT_OFFSCREEN feature available\n",
      "error: called from\n",
      "    _make_figures>safe_print at line 125 column 7\n",
      "    _make_figures at line 49 column 13\n",
      "\n",
      "\u001b[0m"
     ]
    }
   ],
   "source": [
    "color=pc_roi(:,4:6);\n",
    "color(1:10,:)\n",
    "xyz=pc_roi(:,1:3);\n",
    "\n",
    "index=[1:size(color,1)];\n",
    "\n",
    "\n",
    "\n",
    "marker_size=3;\n",
    "figure\n",
    "scatter3(xyz(:,1), xyz(:,2), xyz(:,3), marker_size, index,\"filled\")\n",
    "colormap(color)\n",
    "view(30,90)"
   ]
  },
  {
   "cell_type": "code",
   "execution_count": null,
   "metadata": {},
   "outputs": [],
   "source": []
  }
 ],
 "metadata": {
  "kernelspec": {
   "display_name": "Octave",
   "language": "octave",
   "name": "octave"
  },
  "language_info": {
   "file_extension": ".m",
   "help_links": [
    {
     "text": "GNU Octave",
     "url": "https://www.gnu.org/software/octave/support.html"
    },
    {
     "text": "Octave Kernel",
     "url": "https://github.com/Calysto/octave_kernel"
    },
    {
     "text": "MetaKernel Magics",
     "url": "https://metakernel.readthedocs.io/en/latest/source/README.html"
    }
   ],
   "mimetype": "text/x-octave",
   "name": "octave",
   "version": "6.2.0"
  }
 },
 "nbformat": 4,
 "nbformat_minor": 4
}
